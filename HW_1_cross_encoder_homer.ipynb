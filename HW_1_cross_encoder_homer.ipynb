{
  "cells": [
    {
      "cell_type": "code",
      "source": [
        "!pip install torchmetrics -q\n",
        "!pip install datasets -q"
      ],
      "metadata": {
        "colab": {
          "base_uri": "https://localhost:8080/"
        },
        "id": "yDtd_vKbcVTf",
        "outputId": "307c9f3e-6253-41fe-d92c-6ac50871e1d4"
      },
      "id": "yDtd_vKbcVTf",
      "execution_count": 4,
      "outputs": [
        {
          "output_type": "stream",
          "name": "stdout",
          "text": [
            "\u001b[2K     \u001b[90m━━━━━━━━━━━━━━━━━━━━━━━━━━━━━━━━━━━━━━━━\u001b[0m \u001b[32m840.4/840.4 kB\u001b[0m \u001b[31m4.6 MB/s\u001b[0m eta \u001b[36m0:00:00\u001b[0m\n",
            "\u001b[2K     \u001b[90m━━━━━━━━━━━━━━━━━━━━━━━━━━━━━━━━━━━━━━━━\u001b[0m \u001b[32m536.7/536.7 kB\u001b[0m \u001b[31m4.2 MB/s\u001b[0m eta \u001b[36m0:00:00\u001b[0m\n",
            "\u001b[2K     \u001b[90m━━━━━━━━━━━━━━━━━━━━━━━━━━━━━━━━━━━━━━━━\u001b[0m \u001b[32m116.3/116.3 kB\u001b[0m \u001b[31m15.4 MB/s\u001b[0m eta \u001b[36m0:00:00\u001b[0m\n",
            "\u001b[2K     \u001b[90m━━━━━━━━━━━━━━━━━━━━━━━━━━━━━━━━━━━━━━━━\u001b[0m \u001b[32m134.8/134.8 kB\u001b[0m \u001b[31m17.8 MB/s\u001b[0m eta \u001b[36m0:00:00\u001b[0m\n",
            "\u001b[?25h"
          ]
        }
      ]
    },
    {
      "cell_type": "code",
      "source": [
        "from google.colab import drive\n",
        "drive.mount('/content/drive')"
      ],
      "metadata": {
        "colab": {
          "base_uri": "https://localhost:8080/"
        },
        "id": "AY_dNYSdcY4h",
        "outputId": "5586b0d8-eb0e-4bfe-d8df-29880c9d5fd7"
      },
      "id": "AY_dNYSdcY4h",
      "execution_count": 5,
      "outputs": [
        {
          "output_type": "stream",
          "name": "stdout",
          "text": [
            "Mounted at /content/drive\n"
          ]
        }
      ]
    },
    {
      "cell_type": "code",
      "execution_count": 6,
      "id": "da50f4c9",
      "metadata": {
        "id": "da50f4c9"
      },
      "outputs": [],
      "source": [
        "import torchmetrics\n",
        "import pandas as pd\n",
        "import matplotlib.pyplot as plt\n",
        "from sklearn.model_selection import train_test_split\n",
        "from   sklearn.preprocessing   import LabelEncoder          # кодировка категорий\n",
        "import numpy as np\n",
        "import torch\n",
        "from torch.autograd import Variable\n",
        "import torch.nn as nn\n",
        "import torch.nn.functional as F\n",
        "import torch.optim as optim"
      ]
    },
    {
      "cell_type": "code",
      "execution_count": 7,
      "id": "a15c675e",
      "metadata": {
        "colab": {
          "base_uri": "https://localhost:8080/",
          "height": 35
        },
        "id": "a15c675e",
        "outputId": "e881c5c3-ed3b-49f5-fea8-2f3f677fe1c8"
      },
      "outputs": [
        {
          "output_type": "execute_result",
          "data": {
            "text/plain": [
              "'cuda'"
            ],
            "application/vnd.google.colaboratory.intrinsic+json": {
              "type": "string"
            }
          },
          "metadata": {},
          "execution_count": 7
        }
      ],
      "source": [
        "DEVICE = \"cuda\" if torch.cuda.is_available() else \"cpu\"\n",
        "DEVICE"
      ]
    },
    {
      "cell_type": "code",
      "execution_count": 8,
      "id": "ca1cacca",
      "metadata": {
        "id": "ca1cacca"
      },
      "outputs": [],
      "source": [
        "final_dataset = pd.read_csv('/content/drive/MyDrive/Colab Notebooks/Homer/final_dataset_homer.csv')"
      ]
    },
    {
      "cell_type": "code",
      "execution_count": 9,
      "id": "eecc92b9",
      "metadata": {
        "colab": {
          "base_uri": "https://localhost:8080/",
          "height": 213
        },
        "id": "eecc92b9",
        "outputId": "735df3de-aeea-4ac0-c01e-735caeaffd82"
      },
      "outputs": [
        {
          "output_type": "execute_result",
          "data": {
            "text/plain": [
              "   Unnamed: 0                                                  A  \\\n",
              "0           3                                                Me?   \n",
              "1           4      I don't think you realize what you're saying.   \n",
              "2           5  Did you hear that, Marge? She called me a babo...   \n",
              "\n",
              "                                                   Q  \\\n",
              "0  I'm glad I'm not crying because I would hate f...   \n",
              "1          Yes, you! Baboon, baboon, baboon, baboon!   \n",
              "2  Whoa, somebody was bound to say it one day. I ...   \n",
              "\n",
              "                                             Context  len_Context  label  \n",
              "0  Mr. Bergstrom left today. He's gone. Forever. ...          4.0    1.0  \n",
              "1  He's gone. Forever. I didn't think you'd under...          4.0    1.0  \n",
              "2  I didn't think you'd understand. I'm glad I'm ...          4.0    1.0  "
            ],
            "text/html": [
              "\n",
              "  <div id=\"df-db627b41-6d9c-46ad-95e0-9446b1a94ef6\" class=\"colab-df-container\">\n",
              "    <div>\n",
              "<style scoped>\n",
              "    .dataframe tbody tr th:only-of-type {\n",
              "        vertical-align: middle;\n",
              "    }\n",
              "\n",
              "    .dataframe tbody tr th {\n",
              "        vertical-align: top;\n",
              "    }\n",
              "\n",
              "    .dataframe thead th {\n",
              "        text-align: right;\n",
              "    }\n",
              "</style>\n",
              "<table border=\"1\" class=\"dataframe\">\n",
              "  <thead>\n",
              "    <tr style=\"text-align: right;\">\n",
              "      <th></th>\n",
              "      <th>Unnamed: 0</th>\n",
              "      <th>A</th>\n",
              "      <th>Q</th>\n",
              "      <th>Context</th>\n",
              "      <th>len_Context</th>\n",
              "      <th>label</th>\n",
              "    </tr>\n",
              "  </thead>\n",
              "  <tbody>\n",
              "    <tr>\n",
              "      <th>0</th>\n",
              "      <td>3</td>\n",
              "      <td>Me?</td>\n",
              "      <td>I'm glad I'm not crying because I would hate f...</td>\n",
              "      <td>Mr. Bergstrom left today. He's gone. Forever. ...</td>\n",
              "      <td>4.0</td>\n",
              "      <td>1.0</td>\n",
              "    </tr>\n",
              "    <tr>\n",
              "      <th>1</th>\n",
              "      <td>4</td>\n",
              "      <td>I don't think you realize what you're saying.</td>\n",
              "      <td>Yes, you! Baboon, baboon, baboon, baboon!</td>\n",
              "      <td>He's gone. Forever. I didn't think you'd under...</td>\n",
              "      <td>4.0</td>\n",
              "      <td>1.0</td>\n",
              "    </tr>\n",
              "    <tr>\n",
              "      <th>2</th>\n",
              "      <td>5</td>\n",
              "      <td>Did you hear that, Marge? She called me a babo...</td>\n",
              "      <td>Whoa, somebody was bound to say it one day. I ...</td>\n",
              "      <td>I didn't think you'd understand. I'm glad I'm ...</td>\n",
              "      <td>4.0</td>\n",
              "      <td>1.0</td>\n",
              "    </tr>\n",
              "  </tbody>\n",
              "</table>\n",
              "</div>\n",
              "    <div class=\"colab-df-buttons\">\n",
              "\n",
              "  <div class=\"colab-df-container\">\n",
              "    <button class=\"colab-df-convert\" onclick=\"convertToInteractive('df-db627b41-6d9c-46ad-95e0-9446b1a94ef6')\"\n",
              "            title=\"Convert this dataframe to an interactive table.\"\n",
              "            style=\"display:none;\">\n",
              "\n",
              "  <svg xmlns=\"http://www.w3.org/2000/svg\" height=\"24px\" viewBox=\"0 -960 960 960\">\n",
              "    <path d=\"M120-120v-720h720v720H120Zm60-500h600v-160H180v160Zm220 220h160v-160H400v160Zm0 220h160v-160H400v160ZM180-400h160v-160H180v160Zm440 0h160v-160H620v160ZM180-180h160v-160H180v160Zm440 0h160v-160H620v160Z\"/>\n",
              "  </svg>\n",
              "    </button>\n",
              "\n",
              "  <style>\n",
              "    .colab-df-container {\n",
              "      display:flex;\n",
              "      gap: 12px;\n",
              "    }\n",
              "\n",
              "    .colab-df-convert {\n",
              "      background-color: #E8F0FE;\n",
              "      border: none;\n",
              "      border-radius: 50%;\n",
              "      cursor: pointer;\n",
              "      display: none;\n",
              "      fill: #1967D2;\n",
              "      height: 32px;\n",
              "      padding: 0 0 0 0;\n",
              "      width: 32px;\n",
              "    }\n",
              "\n",
              "    .colab-df-convert:hover {\n",
              "      background-color: #E2EBFA;\n",
              "      box-shadow: 0px 1px 2px rgba(60, 64, 67, 0.3), 0px 1px 3px 1px rgba(60, 64, 67, 0.15);\n",
              "      fill: #174EA6;\n",
              "    }\n",
              "\n",
              "    .colab-df-buttons div {\n",
              "      margin-bottom: 4px;\n",
              "    }\n",
              "\n",
              "    [theme=dark] .colab-df-convert {\n",
              "      background-color: #3B4455;\n",
              "      fill: #D2E3FC;\n",
              "    }\n",
              "\n",
              "    [theme=dark] .colab-df-convert:hover {\n",
              "      background-color: #434B5C;\n",
              "      box-shadow: 0px 1px 3px 1px rgba(0, 0, 0, 0.15);\n",
              "      filter: drop-shadow(0px 1px 2px rgba(0, 0, 0, 0.3));\n",
              "      fill: #FFFFFF;\n",
              "    }\n",
              "  </style>\n",
              "\n",
              "    <script>\n",
              "      const buttonEl =\n",
              "        document.querySelector('#df-db627b41-6d9c-46ad-95e0-9446b1a94ef6 button.colab-df-convert');\n",
              "      buttonEl.style.display =\n",
              "        google.colab.kernel.accessAllowed ? 'block' : 'none';\n",
              "\n",
              "      async function convertToInteractive(key) {\n",
              "        const element = document.querySelector('#df-db627b41-6d9c-46ad-95e0-9446b1a94ef6');\n",
              "        const dataTable =\n",
              "          await google.colab.kernel.invokeFunction('convertToInteractive',\n",
              "                                                    [key], {});\n",
              "        if (!dataTable) return;\n",
              "\n",
              "        const docLinkHtml = 'Like what you see? Visit the ' +\n",
              "          '<a target=\"_blank\" href=https://colab.research.google.com/notebooks/data_table.ipynb>data table notebook</a>'\n",
              "          + ' to learn more about interactive tables.';\n",
              "        element.innerHTML = '';\n",
              "        dataTable['output_type'] = 'display_data';\n",
              "        await google.colab.output.renderOutput(dataTable, element);\n",
              "        const docLink = document.createElement('div');\n",
              "        docLink.innerHTML = docLinkHtml;\n",
              "        element.appendChild(docLink);\n",
              "      }\n",
              "    </script>\n",
              "  </div>\n",
              "\n",
              "\n",
              "<div id=\"df-6fd55d6b-fcc8-4589-a390-6d66d8707b0f\">\n",
              "  <button class=\"colab-df-quickchart\" onclick=\"quickchart('df-6fd55d6b-fcc8-4589-a390-6d66d8707b0f')\"\n",
              "            title=\"Suggest charts\"\n",
              "            style=\"display:none;\">\n",
              "\n",
              "<svg xmlns=\"http://www.w3.org/2000/svg\" height=\"24px\"viewBox=\"0 0 24 24\"\n",
              "     width=\"24px\">\n",
              "    <g>\n",
              "        <path d=\"M19 3H5c-1.1 0-2 .9-2 2v14c0 1.1.9 2 2 2h14c1.1 0 2-.9 2-2V5c0-1.1-.9-2-2-2zM9 17H7v-7h2v7zm4 0h-2V7h2v10zm4 0h-2v-4h2v4z\"/>\n",
              "    </g>\n",
              "</svg>\n",
              "  </button>\n",
              "\n",
              "<style>\n",
              "  .colab-df-quickchart {\n",
              "      --bg-color: #E8F0FE;\n",
              "      --fill-color: #1967D2;\n",
              "      --hover-bg-color: #E2EBFA;\n",
              "      --hover-fill-color: #174EA6;\n",
              "      --disabled-fill-color: #AAA;\n",
              "      --disabled-bg-color: #DDD;\n",
              "  }\n",
              "\n",
              "  [theme=dark] .colab-df-quickchart {\n",
              "      --bg-color: #3B4455;\n",
              "      --fill-color: #D2E3FC;\n",
              "      --hover-bg-color: #434B5C;\n",
              "      --hover-fill-color: #FFFFFF;\n",
              "      --disabled-bg-color: #3B4455;\n",
              "      --disabled-fill-color: #666;\n",
              "  }\n",
              "\n",
              "  .colab-df-quickchart {\n",
              "    background-color: var(--bg-color);\n",
              "    border: none;\n",
              "    border-radius: 50%;\n",
              "    cursor: pointer;\n",
              "    display: none;\n",
              "    fill: var(--fill-color);\n",
              "    height: 32px;\n",
              "    padding: 0;\n",
              "    width: 32px;\n",
              "  }\n",
              "\n",
              "  .colab-df-quickchart:hover {\n",
              "    background-color: var(--hover-bg-color);\n",
              "    box-shadow: 0 1px 2px rgba(60, 64, 67, 0.3), 0 1px 3px 1px rgba(60, 64, 67, 0.15);\n",
              "    fill: var(--button-hover-fill-color);\n",
              "  }\n",
              "\n",
              "  .colab-df-quickchart-complete:disabled,\n",
              "  .colab-df-quickchart-complete:disabled:hover {\n",
              "    background-color: var(--disabled-bg-color);\n",
              "    fill: var(--disabled-fill-color);\n",
              "    box-shadow: none;\n",
              "  }\n",
              "\n",
              "  .colab-df-spinner {\n",
              "    border: 2px solid var(--fill-color);\n",
              "    border-color: transparent;\n",
              "    border-bottom-color: var(--fill-color);\n",
              "    animation:\n",
              "      spin 1s steps(1) infinite;\n",
              "  }\n",
              "\n",
              "  @keyframes spin {\n",
              "    0% {\n",
              "      border-color: transparent;\n",
              "      border-bottom-color: var(--fill-color);\n",
              "      border-left-color: var(--fill-color);\n",
              "    }\n",
              "    20% {\n",
              "      border-color: transparent;\n",
              "      border-left-color: var(--fill-color);\n",
              "      border-top-color: var(--fill-color);\n",
              "    }\n",
              "    30% {\n",
              "      border-color: transparent;\n",
              "      border-left-color: var(--fill-color);\n",
              "      border-top-color: var(--fill-color);\n",
              "      border-right-color: var(--fill-color);\n",
              "    }\n",
              "    40% {\n",
              "      border-color: transparent;\n",
              "      border-right-color: var(--fill-color);\n",
              "      border-top-color: var(--fill-color);\n",
              "    }\n",
              "    60% {\n",
              "      border-color: transparent;\n",
              "      border-right-color: var(--fill-color);\n",
              "    }\n",
              "    80% {\n",
              "      border-color: transparent;\n",
              "      border-right-color: var(--fill-color);\n",
              "      border-bottom-color: var(--fill-color);\n",
              "    }\n",
              "    90% {\n",
              "      border-color: transparent;\n",
              "      border-bottom-color: var(--fill-color);\n",
              "    }\n",
              "  }\n",
              "</style>\n",
              "\n",
              "  <script>\n",
              "    async function quickchart(key) {\n",
              "      const quickchartButtonEl =\n",
              "        document.querySelector('#' + key + ' button');\n",
              "      quickchartButtonEl.disabled = true;  // To prevent multiple clicks.\n",
              "      quickchartButtonEl.classList.add('colab-df-spinner');\n",
              "      try {\n",
              "        const charts = await google.colab.kernel.invokeFunction(\n",
              "            'suggestCharts', [key], {});\n",
              "      } catch (error) {\n",
              "        console.error('Error during call to suggestCharts:', error);\n",
              "      }\n",
              "      quickchartButtonEl.classList.remove('colab-df-spinner');\n",
              "      quickchartButtonEl.classList.add('colab-df-quickchart-complete');\n",
              "    }\n",
              "    (() => {\n",
              "      let quickchartButtonEl =\n",
              "        document.querySelector('#df-6fd55d6b-fcc8-4589-a390-6d66d8707b0f button');\n",
              "      quickchartButtonEl.style.display =\n",
              "        google.colab.kernel.accessAllowed ? 'block' : 'none';\n",
              "    })();\n",
              "  </script>\n",
              "</div>\n",
              "    </div>\n",
              "  </div>\n"
            ],
            "application/vnd.google.colaboratory.intrinsic+json": {
              "type": "dataframe",
              "variable_name": "final_dataset",
              "summary": "{\n  \"name\": \"final_dataset\",\n  \"rows\": 6531,\n  \"fields\": [\n    {\n      \"column\": \"Unnamed: 0\",\n      \"properties\": {\n        \"dtype\": \"number\",\n        \"std\": 7871,\n        \"min\": 3,\n        \"max\": 27805,\n        \"num_unique_values\": 6531,\n        \"samples\": [\n          6888,\n          5073,\n          823\n        ],\n        \"semantic_type\": \"\",\n        \"description\": \"\"\n      }\n    },\n    {\n      \"column\": \"A\",\n      \"properties\": {\n        \"dtype\": \"string\",\n        \"num_unique_values\": 6214,\n        \"samples\": [\n          \"...uh, because you want them to grow...\",\n          \"Shh-shh, the grownups are talking, honey.\",\n          \"The book fair?\"\n        ],\n        \"semantic_type\": \"\",\n        \"description\": \"\"\n      }\n    },\n    {\n      \"column\": \"Q\",\n      \"properties\": {\n        \"dtype\": \"string\",\n        \"num_unique_values\": 6256,\n        \"samples\": [\n          \"I see. You have thirty seconds to wow me.\",\n          \"Homer, do you have any plans for after graduation?\",\n          \"Homie, whatever it is, it's not happening.\"\n        ],\n        \"semantic_type\": \"\",\n        \"description\": \"\"\n      }\n    },\n    {\n      \"column\": \"Context\",\n      \"properties\": {\n        \"dtype\": \"string\",\n        \"num_unique_values\": 6516,\n        \"samples\": [\n          \"Because he's got something no gambler's ever had: a system. I've gotten the pamphlet four weeks in a row, and every time, the \\\"pick of the week\\\" has been right on the money. I have money! A scam? Not according to \\\"Eddie F. from Tucson,\\\" or \\\"Football Millionaire in Beloit, Michigan.\\\" Spare some change, football dude? You have a good day.\",\n          \"But this will be so confusing. The mailman won't know what to do. Did you think of the mailman at all before you did this? And what about the tattoo on my you-know-what? But I fell in love with Homer Simpson. I don't want to snuggle with \\\"Max Power.\\\" Oh, Lord.\",\n          \"... Six hi-ya-ya..! ... Four hi-ya-ya..! ... Three hi-ya-ya..! ... Two hi-ya-ya..! ... One hi-ya-ya! We'll have you out of there as soon as our tech boys get you decontaminated. Now Homer, if there's anything else I can do for you, please don't hesitate to ask.\"\n        ],\n        \"semantic_type\": \"\",\n        \"description\": \"\"\n      }\n    },\n    {\n      \"column\": \"len_Context\",\n      \"properties\": {\n        \"dtype\": \"number\",\n        \"std\": 0.0,\n        \"min\": 4.0,\n        \"max\": 4.0,\n        \"num_unique_values\": 1,\n        \"samples\": [\n          4.0\n        ],\n        \"semantic_type\": \"\",\n        \"description\": \"\"\n      }\n    },\n    {\n      \"column\": \"label\",\n      \"properties\": {\n        \"dtype\": \"number\",\n        \"std\": 0.4073928354728643,\n        \"min\": 0.0,\n        \"max\": 1.0,\n        \"num_unique_values\": 2,\n        \"samples\": [\n          0.0\n        ],\n        \"semantic_type\": \"\",\n        \"description\": \"\"\n      }\n    }\n  ]\n}"
            }
          },
          "metadata": {},
          "execution_count": 9
        }
      ],
      "source": [
        "final_dataset.head(3)"
      ]
    },
    {
      "cell_type": "code",
      "execution_count": 10,
      "id": "3c8df9c0",
      "metadata": {
        "id": "3c8df9c0"
      },
      "outputs": [],
      "source": [
        "# Соберем все ответы из базы\n",
        "base_answers = final_dataset['A']\n",
        "all_answers = list(set(base_answers)) # Список всех ответов из базы"
      ]
    },
    {
      "cell_type": "code",
      "execution_count": 11,
      "id": "e4194ebe",
      "metadata": {
        "colab": {
          "base_uri": "https://localhost:8080/",
          "height": 35
        },
        "id": "e4194ebe",
        "outputId": "8cf67f54-b882-41a3-a17d-2dbd59f542bb"
      },
      "outputs": [
        {
          "output_type": "execute_result",
          "data": {
            "text/plain": [
              "\"Why do you think I'm kicking it?\""
            ],
            "application/vnd.google.colaboratory.intrinsic+json": {
              "type": "string"
            }
          },
          "metadata": {},
          "execution_count": 11
        }
      ],
      "source": [
        "all_answers[1]"
      ]
    },
    {
      "cell_type": "code",
      "execution_count": 12,
      "id": "783f256e",
      "metadata": {
        "id": "783f256e"
      },
      "outputs": [],
      "source": [
        "from typing import Callable, Iterable\n",
        "\n",
        "import torch\n",
        "from torch.utils.data import Dataset, DataLoader, random_split\n",
        "from transformers import AutoTokenizer, AutoModel\n",
        "from transformers.optimization import get_linear_schedule_with_warmup\n",
        "from scipy import stats\n",
        "from sklearn.metrics.pairwise import cosine_similarity"
      ]
    },
    {
      "cell_type": "code",
      "execution_count": 14,
      "id": "cf7d573e",
      "metadata": {
        "colab": {
          "base_uri": "https://localhost:8080/"
        },
        "id": "cf7d573e",
        "outputId": "e42c2d45-4043-4e22-d541-ecdeedd1b77b"
      },
      "outputs": [
        {
          "output_type": "execute_result",
          "data": {
            "text/plain": [
              "DistilBertModel(\n",
              "  (embeddings): Embeddings(\n",
              "    (word_embeddings): Embedding(30522, 768, padding_idx=0)\n",
              "    (position_embeddings): Embedding(512, 768)\n",
              "    (LayerNorm): LayerNorm((768,), eps=1e-12, elementwise_affine=True)\n",
              "    (dropout): Dropout(p=0.1, inplace=False)\n",
              "  )\n",
              "  (transformer): Transformer(\n",
              "    (layer): ModuleList(\n",
              "      (0-5): 6 x TransformerBlock(\n",
              "        (attention): MultiHeadSelfAttention(\n",
              "          (dropout): Dropout(p=0.1, inplace=False)\n",
              "          (q_lin): Linear(in_features=768, out_features=768, bias=True)\n",
              "          (k_lin): Linear(in_features=768, out_features=768, bias=True)\n",
              "          (v_lin): Linear(in_features=768, out_features=768, bias=True)\n",
              "          (out_lin): Linear(in_features=768, out_features=768, bias=True)\n",
              "        )\n",
              "        (sa_layer_norm): LayerNorm((768,), eps=1e-12, elementwise_affine=True)\n",
              "        (ffn): FFN(\n",
              "          (dropout): Dropout(p=0.1, inplace=False)\n",
              "          (lin1): Linear(in_features=768, out_features=3072, bias=True)\n",
              "          (lin2): Linear(in_features=3072, out_features=768, bias=True)\n",
              "          (activation): GELUActivation()\n",
              "        )\n",
              "        (output_layer_norm): LayerNorm((768,), eps=1e-12, elementwise_affine=True)\n",
              "      )\n",
              "    )\n",
              "  )\n",
              ")"
            ]
          },
          "metadata": {},
          "execution_count": 14
        }
      ],
      "source": [
        "tokenizer = AutoTokenizer.from_pretrained(\"distilbert-base-uncased\")\n",
        "bert_model = AutoModel.from_pretrained(\"distilbert-base-uncased\")\n",
        "bert_model.from_pretrained(\"/content/drive/MyDrive/Colab Notebooks/Homer/bi_encoder_homer\")"
      ]
    },
    {
      "cell_type": "code",
      "execution_count": 15,
      "id": "743d3587",
      "metadata": {
        "id": "743d3587"
      },
      "outputs": [],
      "source": [
        "dataset = pd.DataFrame({\n",
        "    \"sentence1\": final_dataset[\"A\"],  # Создание поля \"предложение 1\" на основе данных из поля \"А\"\n",
        "    \"sentence2\": final_dataset[\"Q\"],  # Создание поля \"предложение 2\" на основе данных из поля \"Б\"\n",
        "    \"label\": final_dataset[\"label\"]     # Создание поля \"метка 2\" на основе данных из поля \"метка\"\n",
        "})"
      ]
    },
    {
      "cell_type": "code",
      "source": [
        "MAX_LENGTH=128"
      ],
      "metadata": {
        "id": "5smlUrvvdNV-"
      },
      "id": "5smlUrvvdNV-",
      "execution_count": 16,
      "outputs": []
    },
    {
      "cell_type": "code",
      "execution_count": 17,
      "id": "6963b2ac",
      "metadata": {
        "id": "6963b2ac"
      },
      "outputs": [],
      "source": [
        "tokenized_texts = tokenizer(dataset[\"sentence1\"].tolist(),\n",
        "                            dataset[\"sentence2\"].tolist(),\n",
        "                            max_length=MAX_LENGTH, padding=\"max_length\",\n",
        "                            truncation=True, verbose=True)"
      ]
    },
    {
      "cell_type": "code",
      "execution_count": 18,
      "id": "cfa0ac9d",
      "metadata": {
        "id": "cfa0ac9d"
      },
      "outputs": [],
      "source": [
        "class StsDataset(Dataset):\n",
        "    def __init__(self, tokens: dict, labels: list[float]):\n",
        "        self.tokens = tokens\n",
        "        self.labels = labels\n",
        "\n",
        "    def __getitem__(self, ix: int) -> dict[str, torch.tensor]:\n",
        "        return {\n",
        "            \"input_ids\": torch.tensor(self.tokens[\"input_ids\"][ix], dtype=torch.long),\n",
        "            \"attention_mask\": torch.tensor(self.tokens[\"attention_mask\"][ix], dtype=torch.long),\n",
        "            \"labels\": torch.tensor(self.labels[ix], dtype=torch.float)  # Use float for regression\n",
        "        }\n",
        "\n",
        "    def __len__(self) -> int:\n",
        "        return len(self.tokens[\"input_ids\"])"
      ]
    },
    {
      "cell_type": "code",
      "execution_count": null,
      "id": "0f70dff9",
      "metadata": {
        "id": "0f70dff9"
      },
      "outputs": [],
      "source": [
        "%%time\n",
        "\n",
        "sts_dataset = StsDataset(tokenized_texts, dataset[\"label\"].tolist())"
      ]
    },
    {
      "cell_type": "code",
      "execution_count": 20,
      "id": "ec99c588",
      "metadata": {
        "id": "ec99c588"
      },
      "outputs": [],
      "source": [
        "train_ratio = 0.9\n",
        "n_total = len(sts_dataset)\n",
        "n_train = int(n_total * train_ratio)\n",
        "n_val = n_total - n_train\n",
        "\n",
        "train_dataset, val_dataset = random_split(sts_dataset, [n_train, n_val])\n",
        "\n",
        "batch_size = 16  # mentioned in the paper\n",
        "train_dataloader = DataLoader(train_dataset, batch_size=batch_size, shuffle=True)\n",
        "val_dataloader = DataLoader(val_dataset, batch_size=batch_size, shuffle=False)"
      ]
    },
    {
      "cell_type": "code",
      "execution_count": null,
      "id": "13461802",
      "metadata": {
        "id": "13461802"
      },
      "outputs": [],
      "source": [
        "len(train_dataloader), len(val_dataloader)"
      ]
    },
    {
      "cell_type": "code",
      "execution_count": 22,
      "id": "71c73901",
      "metadata": {
        "id": "71c73901"
      },
      "outputs": [],
      "source": [
        "class CrossEncoderBert(torch.nn.Module):\n",
        "    def __init__(self, max_length: int = MAX_LENGTH):\n",
        "        super().__init__()\n",
        "        self.max_length = max_length\n",
        "        self.bert_model = AutoModel.from_pretrained('distilbert-base-uncased')\n",
        "        self.bert_tokenizer = AutoTokenizer.from_pretrained('distilbert-base-uncased')\n",
        "        self.linear = torch.nn.Linear(self.bert_model.config.hidden_size, 1)\n",
        "\n",
        "    def forward(self, input_ids, attention_mask):\n",
        "        outputs = self.bert_model(input_ids=input_ids, attention_mask=attention_mask)\n",
        "        pooled_output = outputs.last_hidden_state[:, 0]  # Use the CLS token's output\n",
        "        return self.linear(pooled_output)"
      ]
    },
    {
      "cell_type": "code",
      "execution_count": 23,
      "id": "3d41d1e7",
      "metadata": {
        "id": "3d41d1e7"
      },
      "outputs": [],
      "source": [
        "model = CrossEncoderBert().to(DEVICE)"
      ]
    },
    {
      "cell_type": "code",
      "execution_count": 26,
      "id": "7d10c27e",
      "metadata": {
        "id": "7d10c27e"
      },
      "outputs": [],
      "source": [
        "#  optimizer, lr, num_warmup steps have been picked from the paper\n",
        "optimizer = torch.optim.AdamW(model.parameters(), lr=3e-5)\n",
        "total_steps = len(train_dataset) // batch_size\n",
        "warmup_steps = int(0.1 * total_steps)\n",
        "scheduler = get_linear_schedule_with_warmup(optimizer, num_warmup_steps=warmup_steps,\n",
        "                                            num_training_steps=total_steps - warmup_steps)\n",
        "\n",
        "loss_fn = torch.nn.MSELoss()"
      ]
    },
    {
      "cell_type": "code",
      "execution_count": 24,
      "id": "1e83f13a",
      "metadata": {
        "id": "1e83f13a"
      },
      "outputs": [],
      "source": [
        "#  optimizer, lr, num_warmup steps have been picked from the paper\n",
        "optimizer = torch.optim.AdamW(model.parameters(), lr=3e-5)\n",
        "total_steps = len(train_dataset) // batch_size\n",
        "warmup_steps = int(0.1 * total_steps)\n",
        "scheduler = get_linear_schedule_with_warmup(optimizer, num_warmup_steps=warmup_steps,\n",
        "                                            num_training_steps=total_steps - warmup_steps)\n",
        "\n",
        "loss_fn = torch.nn.MSELoss()"
      ]
    },
    {
      "cell_type": "code",
      "execution_count": 25,
      "id": "79791e35",
      "metadata": {
        "id": "79791e35"
      },
      "outputs": [],
      "source": [
        "def train_step_fn(model, optimizer, scheduler, loss_fn, batch):\n",
        "    model.train()\n",
        "    input_ids = batch['input_ids'].to(DEVICE)\n",
        "    attention_mask = batch['attention_mask'].to(DEVICE)\n",
        "    labels = batch['labels'].to(DEVICE)\n",
        "    optimizer.zero_grad()\n",
        "    logits = model(input_ids, attention_mask)\n",
        "    loss = loss_fn(logits.squeeze(-1), labels)\n",
        "    loss.backward()\n",
        "    optimizer.step()\n",
        "    scheduler.step()\n",
        "    return loss.item()\n",
        "\n",
        "def val_step_fn(model, loss_fn, batch):\n",
        "    model.eval()\n",
        "    input_ids = batch['input_ids'].to(DEVICE)\n",
        "    attention_mask = batch['attention_mask'].to(DEVICE)\n",
        "    labels = batch['labels'].to(DEVICE)\n",
        "    with torch.no_grad():\n",
        "        logits = model(input_ids, attention_mask)\n",
        "    loss = loss_fn(logits.squeeze(-1), labels)\n",
        "    return loss.item()\n",
        "\n",
        "def mini_batch(dataloader, step_fn, is_training=True):\n",
        "    mini_batch_losses = []\n",
        "    for i, batch in enumerate(dataloader):\n",
        "        if is_training:\n",
        "            loss = step_fn(model, optimizer, scheduler, loss_fn, batch)\n",
        "        else:\n",
        "            loss = step_fn(model, loss_fn, batch)\n",
        "        mini_batch_losses.append(loss)\n",
        "        if i % (batch_size * 4) == 0:\n",
        "            print(f\"Step {i:>5}/{len(dataloader)}, Loss = {loss:.3f}\")\n",
        "    return np.mean(mini_batch_losses), mini_batch_losses"
      ]
    },
    {
      "cell_type": "code",
      "execution_count": 26,
      "id": "7486579f",
      "metadata": {
        "colab": {
          "base_uri": "https://localhost:8080/"
        },
        "id": "7486579f",
        "outputId": "ade065bf-3321-48e6-b4f9-769a258c57d4"
      },
      "outputs": [
        {
          "output_type": "stream",
          "name": "stdout",
          "text": [
            "\n",
            "Epoch 1\n",
            "Step     0/368, Loss = 0.667\n",
            "Step    64/368, Loss = 0.302\n",
            "Step   128/368, Loss = 0.082\n",
            "Step   192/368, Loss = 0.122\n",
            "Step   256/368, Loss = 0.079\n",
            "Step   320/368, Loss = 0.125\n",
            "Step     0/41, Loss = 0.227\n",
            "\n",
            "Epoch 2\n",
            "Step     0/368, Loss = 0.117\n",
            "Step    64/368, Loss = 0.185\n",
            "Step   128/368, Loss = 0.098\n",
            "Step   192/368, Loss = 0.219\n",
            "Step   256/368, Loss = 0.155\n",
            "Step   320/368, Loss = 0.163\n",
            "Step     0/41, Loss = 0.227\n",
            "\n",
            "Epoch 3\n",
            "Step     0/368, Loss = 0.055\n",
            "Step    64/368, Loss = 0.053\n",
            "Step   128/368, Loss = 0.084\n",
            "Step   192/368, Loss = 0.058\n",
            "Step   256/368, Loss = 0.158\n",
            "Step   320/368, Loss = 0.158\n",
            "Step     0/41, Loss = 0.227\n",
            "\n",
            "Epoch 4\n",
            "Step     0/368, Loss = 0.105\n",
            "Step    64/368, Loss = 0.156\n",
            "Step   128/368, Loss = 0.175\n",
            "Step   192/368, Loss = 0.185\n",
            "Step   256/368, Loss = 0.194\n",
            "Step   320/368, Loss = 0.145\n",
            "Step     0/41, Loss = 0.227\n",
            "\n",
            "Epoch 5\n",
            "Step     0/368, Loss = 0.108\n",
            "Step    64/368, Loss = 0.147\n",
            "Step   128/368, Loss = 0.104\n",
            "Step   192/368, Loss = 0.119\n",
            "Step   256/368, Loss = 0.114\n",
            "Step   320/368, Loss = 0.100\n",
            "Step     0/41, Loss = 0.227\n",
            "CPU times: user 5min 4s, sys: 530 ms, total: 5min 5s\n",
            "Wall time: 5min 26s\n"
          ]
        }
      ],
      "source": [
        "%%time\n",
        "\n",
        "n_epochs = 5\n",
        "\n",
        "train_losses, train_mini_batch_losses = [], []\n",
        "val_losses, val_mini_batch_losses = [], []\n",
        "\n",
        "for epoch in range(1, n_epochs + 1):\n",
        "    print(f\"\\nEpoch {epoch}\")\n",
        "    train_loss, _train_mini_batch_losses = mini_batch(train_dataloader, train_step_fn, is_training=True)\n",
        "    train_mini_batch_losses.extend(_train_mini_batch_losses)\n",
        "    train_losses.append(train_loss)\n",
        "\n",
        "    with torch.no_grad():\n",
        "        val_loss, _val_mini_batch_losses = mini_batch(val_dataloader, val_step_fn, is_training=False)\n",
        "        val_mini_batch_losses.extend(_val_mini_batch_losses)\n",
        "        val_losses.append(val_loss)"
      ]
    },
    {
      "cell_type": "code",
      "execution_count": 27,
      "id": "ef453921",
      "metadata": {
        "id": "ef453921"
      },
      "outputs": [],
      "source": [
        "window_size = 32\n",
        "\n",
        "train_mb_running_loss = []\n",
        "for i in range(len(train_mini_batch_losses)-window_size):\n",
        "    train_mb_running_loss.append(np.mean(train_mini_batch_losses[i:i+window_size]))\n",
        "\n",
        "val_mb_running_loss = []\n",
        "for i in range(len(val_mini_batch_losses)-window_size):\n",
        "    val_mb_running_loss.append(np.mean(val_mini_batch_losses[i:i+window_size]))"
      ]
    },
    {
      "cell_type": "code",
      "execution_count": 28,
      "id": "0e371cb6",
      "metadata": {
        "colab": {
          "base_uri": "https://localhost:8080/",
          "height": 652
        },
        "id": "0e371cb6",
        "outputId": "047cf3e9-3fab-4ca0-dfd2-7c4f1e3961b7"
      },
      "outputs": [
        {
          "output_type": "display_data",
          "data": {
            "text/plain": [
              "<Figure size 1400x800 with 1 Axes>"
            ],
            "image/png": "[encoded data removed]"
          },
          "metadata": {}
        }
      ],
      "source": [
        "fix, ax = plt.subplots(figsize=(14, 8))\n",
        "ax.plot(range(len(train_mb_running_loss)), train_mb_running_loss);"
      ]
    },
    {
      "cell_type": "code",
      "execution_count": 29,
      "id": "a36cbde1",
      "metadata": {
        "id": "a36cbde1"
      },
      "outputs": [],
      "source": [
        "model.bert_model.save_pretrained(f\"/content/drive/MyDrive/Colab Notebooks/Homer/cross_encoder_homer\")"
      ]
    },
    {
      "cell_type": "code",
      "source": [
        "torch.save(model.state_dict(), '/content/drive/MyDrive/Colab Notebooks/Homer/weights_only.pth')"
      ],
      "metadata": {
        "id": "AP16YI753_Ya"
      },
      "id": "AP16YI753_Ya",
      "execution_count": null,
      "outputs": []
    },
    {
      "cell_type": "code",
      "execution_count": 33,
      "id": "2629b945",
      "metadata": {
        "id": "2629b945"
      },
      "outputs": [],
      "source": [
        "def get_ranked_docs(\n",
        "    tokenizer: AutoTokenizer, finetuned_ce: CrossEncoderBert,\n",
        "    base_bert: AutoModel, query: str, corpus: list[str]\n",
        ") -> None:\n",
        "\n",
        "    queries = [query] * len(corpus)\n",
        "    tokenized_texts = tokenizer(\n",
        "        queries, corpus, max_length=MAX_LENGTH, padding=True, truncation=True, return_tensors=\"pt\"\n",
        "    ).to(DEVICE)\n",
        "\n",
        "    # Finetuned CrossEncoder model scoring\n",
        "    with torch.no_grad():\n",
        "        ce_scores = finetuned_ce(tokenized_texts['input_ids'], tokenized_texts['attention_mask']).squeeze(-1)\n",
        "        ce_scores = torch.sigmoid(ce_scores)  # Apply sigmoid if needed\n",
        "\n",
        "    # Base Bert model scoring\n",
        "    with torch.no_grad():\n",
        "        base_bert_outputs = base_bert(**tokenized_texts)\n",
        "        bert_scores = torch.sigmoid(finetuned_ce.linear(base_bert_outputs.last_hidden_state[:, 0, :]))  # Use CLS token output\n",
        "\n",
        "    # Process scores for finetuned model\n",
        "    print(f\"Query - {query} [Finetuned Cross-Encoder]\\n---\")\n",
        "    scores = ce_scores.cpu().numpy()\n",
        "    scores_ix = np.argsort(scores)[::-1]\n",
        "    for ix in scores_ix:  # Limit to corpus size\n",
        "        print(f\"{scores[ix]: >.2f}\\t{corpus[ix]}\")\n",
        "\n",
        "    # Process scores for base Bert model\n",
        "    print(f\"\\nQuery - {query} [Bert Base]\\n---\")\n",
        "    scores = bert_scores.cpu().numpy().squeeze(-1)\n",
        "    scores_ix = np.argsort(scores)[::-1]\n",
        "    for ix in scores_ix:  # Limit to corpus size\n",
        "        print(f\"{scores[ix]: >.2f}\\t{corpus[ix]}\")"
      ]
    },
    {
      "cell_type": "code",
      "execution_count": 34,
      "id": "12147c21",
      "metadata": {
        "id": "12147c21"
      },
      "outputs": [],
      "source": [
        "def get_best_rand_reply(\n",
        "    tokenizer: AutoTokenizer,\n",
        "    finetuned_ce: CrossEncoderBert,\n",
        "    base_bert: AutoModel,\n",
        "    query: str,\n",
        "    context: str,\n",
        "    corpus: list[str],\n",
        "    size_patch = 150,\n",
        "    qty_rand_choose = 5,\n",
        "    max_out_context = 200\n",
        ") -> None:\n",
        "\n",
        "    dic_answ = dict()\n",
        "    dic_answ[\"score\"] = []\n",
        "    dic_answ[\"answer\"] = []\n",
        "\n",
        "    conext_memory= query+\"[SEP]\"+context\n",
        "\n",
        "    if len(corpus) < qty_rand_choose*max_out_context:\n",
        "        qty_rand_choose = int(len(corpus))\n",
        "\n",
        "    # так как база большая\n",
        "    for i in range(qty_rand_choose):\n",
        "        rand_patch_corpus = list(np.random.choice(corpus, size_patch))\n",
        "        #print(len(rand_patch_corpus))\n",
        "\n",
        "        queries = [conext_memory]* len(rand_patch_corpus)\n",
        "        #print(len(queries))\n",
        "        tokenized_texts = tokenizer(\n",
        "            queries,\n",
        "            rand_patch_corpus,\n",
        "            max_length=MAX_LENGTH,\n",
        "            padding=True,\n",
        "            truncation=True,\n",
        "            return_tensors=\"pt\"\n",
        "        ).to(DEVICE)\n",
        "\n",
        "        # Finetuned CrossEncoder model scoring\n",
        "        with torch.no_grad():\n",
        "            ce_scores = finetuned_ce(tokenized_texts['input_ids'],\n",
        "                                     tokenized_texts['attention_mask']).squeeze(-1)\n",
        "            ce_scores = torch.sigmoid(ce_scores)  # Apply sigmoid if needed\n",
        "\n",
        "        # Process scores for finetuned model\n",
        "        scores = ce_scores.cpu().numpy()\n",
        "        scores_ix = np.argsort(scores)[::-1][0]\n",
        "        dic_answ[\"score\"].append(scores[scores_ix])\n",
        "        dic_answ[\"answer\"].append(rand_patch_corpus[scores_ix])\n",
        "\n",
        "    id = np.argsort(dic_answ[\"score\"])[::-1][0]# np.array(dic_answ[\"score\"]).argmax()\n",
        "    answer = dic_answ[\"answer\"][id]\n",
        "    conext_memory = answer+\"[SEP]\"+conext_memory\n",
        "  #  flush_memory()\n",
        "    return answer, conext_memory[:max_out_context], dic_answ[\"score\"][id]"
      ]
    },
    {
      "cell_type": "code",
      "execution_count": 35,
      "id": "32979d1c",
      "metadata": {
        "colab": {
          "base_uri": "https://localhost:8080/"
        },
        "id": "32979d1c",
        "outputId": "41052783-daee-4df1-ae25-16183b704b1a"
      },
      "outputs": [
        {
          "output_type": "stream",
          "name": "stdout",
          "text": [
            "Реплика: I'm glad I'm not crying because\n"
          ]
        }
      ],
      "source": [
        "question = \"I'm glad I'm not crying because\"  #\n",
        "print(f\"Реплика: {question}\")"
      ]
    },
    {
      "cell_type": "code",
      "execution_count": 37,
      "id": "06009b1e",
      "metadata": {
        "colab": {
          "base_uri": "https://localhost:8080/"
        },
        "id": "06009b1e",
        "outputId": "793015ac-9cb3-4e02-a2f4-0b92fe544e83"
      },
      "outputs": [
        {
          "output_type": "stream",
          "name": "stdout",
          "text": [
            "Лучший ответ: Are you kidding? It's a wondrous, marvelous thing. Marge, I need you more than anyone else on this entire planet could possibly ever need you. I need you to take care of me, to put up with me, and most of all, I need you to love me, because I love you.\n",
            "score 0.7326272130012512\n"
          ]
        }
      ],
      "source": [
        "best_answer, conext_memory,  best_score = get_best_rand_reply(\n",
        "    tokenizer, model, bert_model.to(DEVICE),\n",
        "    query = question,\n",
        "    context = \"\",\n",
        "    corpus = all_answers)\n",
        "\n",
        "print(f\"Лучший ответ: {best_answer}\\nscore {best_score}\")"
      ]
    },
    {
      "cell_type": "code",
      "execution_count": 38,
      "id": "7f268137",
      "metadata": {
        "colab": {
          "base_uri": "https://localhost:8080/"
        },
        "id": "7f268137",
        "outputId": "634201fa-dc90-4372-e1c3-e367f6a7de66"
      },
      "outputs": [
        {
          "output_type": "stream",
          "name": "stdout",
          "text": [
            "Реплика: Yes, you! Baboon, baboon, baboon, baboon!\n"
          ]
        }
      ],
      "source": [
        "question = \"Yes, you! Baboon, baboon, baboon, baboon!\"  #\n",
        "print(f\"Реплика: {question}\")"
      ]
    },
    {
      "cell_type": "code",
      "execution_count": 39,
      "id": "2349bd89",
      "metadata": {
        "colab": {
          "base_uri": "https://localhost:8080/"
        },
        "id": "2349bd89",
        "outputId": "38ac8b57-43b0-43f5-c716-44ad390f47c2"
      },
      "outputs": [
        {
          "output_type": "stream",
          "name": "stdout",
          "text": [
            "Лучший ответ: 'Cause Marge and I have one thing that can never be broken: a strong marriage built on a solid foundation of routine. Marge, I'm home! Where are you? Are you okay? I don't smell dinner! \"Dear Homer,\" aww. \"Sorry you didn't want to join me tonight. I left you hot dogs for dinner. They're thawing in the sink.\"\n",
            "score 0.7299624085426331\n"
          ]
        }
      ],
      "source": [
        "best_answer, conext_memory,  best_score = get_best_rand_reply(\n",
        "    tokenizer, model, bert_model.to(DEVICE),\n",
        "    query = question,\n",
        "    context = \"\",\n",
        "    corpus = all_answers)\n",
        "\n",
        "print(f\"Лучший ответ: {best_answer}\\nscore {best_score}\")"
      ]
    },
    {
      "cell_type": "code",
      "execution_count": 40,
      "id": "d1942b91",
      "metadata": {
        "colab": {
          "base_uri": "https://localhost:8080/"
        },
        "id": "d1942b91",
        "outputId": "04709460-94c0-40e2-faee-47dc511aa734"
      },
      "outputs": [
        {
          "output_type": "stream",
          "name": "stdout",
          "text": [
            "Реплика: Me?\t\n"
          ]
        }
      ],
      "source": [
        "question = \"Me?\t\"  #\n",
        "print(f\"Реплика: {question}\")"
      ]
    },
    {
      "cell_type": "code",
      "execution_count": 41,
      "id": "da998869",
      "metadata": {
        "colab": {
          "base_uri": "https://localhost:8080/"
        },
        "id": "da998869",
        "outputId": "d66bba8b-56e4-4214-8df8-246f028be48c"
      },
      "outputs": [
        {
          "output_type": "stream",
          "name": "stdout",
          "text": [
            "Лучший ответ: If I know me, he won't like being kicked in the crotch. Oh, Marge. It's me, the real Homer!\n",
            "score 0.7360175251960754\n"
          ]
        }
      ],
      "source": [
        "best_answer, conext_memory,  best_score = get_best_rand_reply(\n",
        "    tokenizer, model, bert_model.to(DEVICE),\n",
        "    query = question,\n",
        "    context = \"\",\n",
        "    corpus = all_answers)\n",
        "\n",
        "print(f\"Лучший ответ: {best_answer}\\nscore {best_score}\")"
      ]
    },
    {
      "cell_type": "code",
      "execution_count": 42,
      "id": "4e233998",
      "metadata": {
        "colab": {
          "base_uri": "https://localhost:8080/"
        },
        "id": "4e233998",
        "outputId": "752986dd-e3dc-49b6-8301-6bbd482f8060"
      },
      "outputs": [
        {
          "output_type": "stream",
          "name": "stdout",
          "text": [
            "Реплика: Homer?\n"
          ]
        }
      ],
      "source": [
        "question = \"Homer?\"  #\n",
        "print(f\"Реплика: {question}\")"
      ]
    },
    {
      "cell_type": "code",
      "execution_count": 43,
      "id": "7d473fb4",
      "metadata": {
        "colab": {
          "base_uri": "https://localhost:8080/"
        },
        "id": "7d473fb4",
        "outputId": "603ae661-b996-4f48-8b96-c0ae3135f282"
      },
      "outputs": [
        {
          "output_type": "stream",
          "name": "stdout",
          "text": [
            "Лучший ответ: Eh. I'll do it anyway. Come on, boy, we're going to see the neighbors.\n",
            "score 0.7377363443374634\n"
          ]
        }
      ],
      "source": [
        "best_answer, conext_memory,  best_score = get_best_rand_reply(\n",
        "    tokenizer, model, bert_model.to(DEVICE),\n",
        "    query = question,\n",
        "    context = \"\",\n",
        "    corpus = all_answers)\n",
        "\n",
        "print(f\"Лучший ответ: {best_answer}\\nscore {best_score}\")"
      ]
    },
    {
      "cell_type": "code",
      "execution_count": null,
      "id": "56ef5039",
      "metadata": {
        "id": "56ef5039"
      },
      "outputs": [],
      "source": []
    }
  ],
  "metadata": {
    "kernelspec": {
      "display_name": "Python 3",
      "name": "python3"
    },
    "language_info": {
      "codemirror_mode": {
        "name": "ipython",
        "version": 3
      },
      "file_extension": ".py",
      "mimetype": "text/x-python",
      "name": "python",
      "nbconvert_exporter": "python",
      "pygments_lexer": "ipython3",
      "version": "3.11.5"
    },
    "colab": {
      "provenance": [],
      "gpuType": "T4"
    },
    "accelerator": "GPU"
  },
  "nbformat": 4,
  "nbformat_minor": 5
}